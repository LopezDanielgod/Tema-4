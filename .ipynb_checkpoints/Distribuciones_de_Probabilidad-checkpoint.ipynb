{
 "cells": [
  {
   "cell_type": "markdown",
   "id": "4e06d27f-b538-4608-9135-f60229e94ea3",
   "metadata": {},
   "source": [
    "# 4. Distribuciones de Probabilidad"
   ]
  },
  {
   "cell_type": "markdown",
   "id": "31ec75f6-1522-41ed-9215-fcee5d20f6c4",
   "metadata": {},
   "source": [
    "Las distribuciones de probabilidad son funciones matemáticas que describen la probabilidad de ocurrencia de diferentes resultados en un experimento aleatorio. Cada distribución se aplica a diferentes tipos de situaciones dependiendo de las características del fenómeno estudiado."
   ]
  },
  {
   "cell_type": "markdown",
   "id": "1b0a0f2d-fd3d-4ec6-b935-3e04f156afcb",
   "metadata": {},
   "source": [
    "## 4.1  Función de probabilidad\n",
    "\n",
    "Es una función matemática que asigna a cada evento de un espacio muestral una probabilidad de ocurrencia. Para una variable aleatoria discreta, la función de probabilidad se conoce como función de masa de probabilidad, y para una variable aleatoria continua, se conoce como función de densidad de probabilidad.\n",
    "\n",
    "$$\n",
    " P(X = x) = P(x)\n",
    " $$\n",
    " \n",
    "### Ejemplo:\n",
    "\n",
    "### Problema:\n",
    "Tienes una urna con 5 bolas numeradas del 1 al 5. Definimos la variable aleatoria $ X $ como el número en la bola seleccionada al extraer una bola al azar. Encuentra $ P(X = x) $ para $ x = 1, 2, 3, 4, 5 $, y verifica que la suma de probabilidades es igual a 1.\n",
    "\n",
    "### Solución:\n",
    "En este caso, cada bola tiene la misma probabilidad de ser seleccionada porque la extracción es aleatoria. Esto implica que la probabilidad de seleccionar una bola en particular es:\n",
    "$$\n",
    "P(X = x) = \\frac{1}{5}, \\quad \\text{para } x = 1, 2, 3, 4, 5.\n",
    "$$\n",
    "\n",
    "Las probabilidades son:\n",
    "$$\n",
    "P(X = 1) = \\frac{1}{5}, \\quad P(X = 2) = \\frac{1}{5}, \\quad P(X = 3) = \\frac{1}{5}, \\quad P(X = 4) = \\frac{1}{5}, \\quad P(X = 5) = \\frac{1}{5}.\n",
    "$$\n",
    "\n",
    "Verificación de la suma de probabilidades:\n",
    "$$\n",
    "\\sum_{x=1}^5 P(X = x) = \\frac{1}{5} + \\frac{1}{5} + \\frac{1}{5} + \\frac{1}{5} + \\frac{1}{5} = 1.\n",
    "$$\n",
    "\n",
    "Por lo tanto, la función de probabilidad es válida.\n"
   ]
  },
  {
   "cell_type": "markdown",
   "id": "19cb117c-62d4-4036-9c6a-833d5fe32105",
   "metadata": {},
   "source": [
    "## 4.2 Distribución binomial\n",
    "\n",
    "La distribución binomial es un modelo o un tipo de distribución de la probabilidad que nos dice el porcentaje en que es probable obtener un resultado entre dos posibles al realizar un número **n** de pruebas.\n",
    "\n",
    "La probabilidad de cada posibilidad no puede ser más grande que 1 ni tampoco puede ser negativa.\n",
    "\n",
    "\n",
    " - **Expresión de la distribución binomial:**\n",
    "\n",
    "$$   \n",
    "<p>\n",
    "\n",
    "    P(X = r) = p_r = \\binom{n}{r} p^r q^{n-r}\n",
    "\n",
    "</p>\n",
    "$$\n",
    "\n",
    "Este modelo cuenta con tres variables importantes las cuales son:\n",
    " - **n** es el número de veces que repetimos el experimento.\n",
    " - **r** es el número de éxitos\n",
    " - **p** es uno de los dos resultados al que llamaremos éxito.\n",
    " - **q** es el otro resultado posible al que llamaremos fracaso.\n",
    "\n",
    "### **Ejemplo**\n",
    "\n",
    "<p>Un fabricante de bombillas sabe que el 90% de sus bombillas pasan un control de calidad. Si se seleccionan al azar 5 bombillas, queremos calcular la probabilidad de que exactamente 4 de ellas pasen el control.</p>\n",
    "\n",
    "Parámetros:\n",
    "<ul>\n",
    "    <li><strong>n</strong> = 5 (número de pruebas)</li>\n",
    "    <li><strong>p</strong> = 0.9 (probabilidad de éxito)</li>\n",
    "    <li><strong>k</strong> = 4 (número de éxitos deseados)</li>\n",
    "</ul>\n",
    "\n",
    "Fórmula de la Probabilidad Binomial:\n",
    "\n",
    "\n",
    "$$\n",
    "P(X = k) = \\binom{n}{k} p^k (1-p)^{n-k}\n",
    "$$\n",
    "\n",
    "\n",
    "Cálculo del coeficiente binomial:\n",
    "\n",
    "$$\n",
    "\\binom{5}{4} = \\frac{5!}{4!(5-4)!} = 5\n",
    "$$\n",
    "\n",
    "2. Cálculo de la probabilidad:\n",
    "\n",
    "$$\n",
    "P(X = 4) = 5 \\cdot (0.9)^4 \\cdot (0.1)^1 \\approx 5 \\cdot 0.6561 \\cdot 0.1 = 0.32805\n",
    "$$\n",
    "\n",
    "Conclusión:\n",
    "<p>La probabilidad de que exactamente 4 de las 5 bombillas seleccionadas pasen el control de calidad es aproximadamente <strong>0.328</strong>.</p>\n",
    "\n",
    "</body>\n",
    "</html>"
   ]
  },
  {
   "cell_type": "markdown",
   "id": "d64fea51-ddce-4fb4-8547-4d323e0cfe9d",
   "metadata": {},
   "source": [
    "## 4.3 Distribución hipergeométrica\n",
    "\n",
    "Describe el número de éxitos en una muestra extraída sin reemplazo de una población finita, dividida en dos grupos (éxito y fracaso), donde el número de éxitos en la muestra es de interés.  \n",
    "- La fórmula para calcularla es:\n",
    "$$\n",
    " f(k; N, n, K) = \\frac{\\binom{K}{k} \\binom{N-K}{n-k}}{\\binom{N}{n}}\n",
    "$$\n",
    "\n",
    "<p>Donde:</p>\n",
    "    <ul>\n",
    "        <li>\\( f(k; N, n, K) \\): Probabilidad de obtener exactamente \\( k \\) éxitos en la muestra.</li>\n",
    "        <li>\\( N \\): Tamaño total de la población.</li>\n",
    "        <li>\\( K \\): Número total de elementos en la población que son de interés (éxitos).</li>\n",
    "        <li>\\( n \\): Tamaño de la muestra (número de ensayos).</li>\n",
    "        <li>\\( \\binom{N}{n} \\): Coeficiente binomial que representa el número de formas de seleccionar \\( n \\) elementos de un conjunto de \\( N \\) elementos.</li>\n",
    "    </ul>\n",
    "\n",
    "## Ejemplo:\n",
    "\n",
    "### Problema:\n",
    "En una clase hay 30 estudiantes, de los cuales 10 son mujeres y 20 son hombres. Se seleccionan 5 estudiantes al azar. ¿Cuál es la probabilidad de que exactamente 3 mujeres estén en el equipo?\n",
    "\n",
    "### Solución:\n",
    "La probabilidad de la distribución hipergeométrica está dada por:\n",
    "$$\n",
    "f(k; N, n, K) = \\frac{\\binom{K}{k} \\binom{N-K}{n-k}}{\\binom{N}{n}},\n",
    "$$\n",
    "donde:\n",
    "- $ N = 30 $: Tamaño de la población total.\n",
    "- $ K = 10 $: Número total de mujeres.\n",
    "- $ n = 5 $: Tamaño de la muestra.\n",
    "- $ k = 3 $: Número de mujeres deseadas en la muestra.\n",
    "\n",
    "Sustituimos los valores en la fórmula paso a paso:\n",
    "\n",
    "1. **Calculamos los coeficientes binomiales:**\n",
    "   - $ \\binom{K}{k} = \\binom{10}{3} = \\frac{10 \\cdot 9 \\cdot 8}{3 \\cdot 2 \\cdot 1} = 120 $,\n",
    "   - $ \\binom{N-K}{n-k} = \\binom{20}{2} = \\frac{20 \\cdot 19}{2 \\cdot 1} = 190 $,\n",
    "   - $ \\binom{N}{n} = \\binom{30}{5} = \\frac{30 \\cdot 29 \\cdot 28 \\cdot 27 \\cdot 26}{5 \\cdot 4 \\cdot 3 \\cdot 2 \\cdot 1} = 142506 $.\n",
    "\n",
    "2. **Sustituimos en la fórmula:**\n",
    "$$\n",
    "f(k; N, n, K) = \\frac{\\binom{K}{k} \\binom{N-K}{n-k}}{\\binom{N}{n}} = \\frac{120 \\cdot 190}{142506}.\n",
    "$$\n",
    "\n",
    "3. **Simplificamos el resultado:**\n",
    "$$\n",
    "f(k; 30, 5, 10) = \\frac{22800}{142506} \\approx 0.160.\n",
    "$$\n",
    "\n",
    "### Respuesta:\n",
    "La probabilidad de seleccionar exactamente 3 mujeres en el equipo es aproximadamente $ 0.16 $ o $ 16\\% $."
   ]
  },
  {
   "cell_type": "markdown",
   "id": "e13d5441-3673-4aa7-adde-c5b9f2167662",
   "metadata": {},
   "source": [
    "# 4.4 Distribución de Poisson\n",
    "\n",
    "La distribución de probabilidad de Poisson da la probabilidad de que se produzca un número de eventos en un intervalo fijo de tiempo o espacio si estos eventos se producen con una tasa promedio conocida.\n",
    " Se utiliza a menudo para hacer modelos de eventos “raros” o poco frecuentes como los que se encuentran en el análisis de riesgos.\n",
    "\n",
    "### Expresión de la distribución de Poisson:\n",
    "\n",
    "$$\n",
    " P(X = k) = \\frac{e^{-\\lambda} \\cdot \\lambda^k}{k!}\n",
    "$$\n",
    "\n",
    "Las variables importes son:\n",
    "- 𝜆: Tasa promedio de ocurrencia de eventos.\n",
    "- 𝑘: Número de eventos de interés (entero no negativo).\n",
    "- 𝑒: Base del logaritmo natural (aproximadamente 2.71828).\n",
    "- 𝑘!: Factorial de 𝑘(producto de todos los enteros positivos hasta 𝑘 k).\n",
    "\n",
    "## **Ejemplo**\n",
    "\n",
    "Un restaurante recibe, en promedio, 5 clientes por hora.¿Cuál es la probabilidad de recibir exactamente 3 clientes en la próxima hora?\n",
    "\n",
    "Datos:\n",
    "<ul>\n",
    "    <li>λ = 5</li>\n",
    "    <li>k = 3</li>\n",
    "</ul>\n",
    "\n",
    "Fórmula de Poisson:\n",
    "\n",
    "$$\n",
    "P(X = 3) = \\frac{e^{-5} \\cdot 5^3}{3!}\n",
    "$$\n",
    "\n",
    "Resultados:\n",
    "<ul>\n",
    "    <li>e<sup>-5</sup> ≈ 0.00674</li>\n",
    "    <li>5<sup>3</sup> = 125</li>\n",
    "    <li>3! = 6</li>\n",
    "</ul>\n",
    "\n",
    "Sustituyendo:\n",
    "\n",
    "$$\n",
    "    P(X = 3) ≈ \\frac{0.00674 \\cdot 125}{6}≈ 0.1404\n",
    "$$\n",
    "\n",
    "Conclusión: La probabilidad de recibir exactamente 3 clientes es aproximadamente 14.04%."
   ]
  },
  {
   "cell_type": "markdown",
   "id": "b0d359d2-2997-438e-a018-311ad01e497e",
   "metadata": {},
   "source": [
    "## 4.5 Distribución normal\n",
    "\n",
    "\n",
    "Es una de las distribuciones más importantes en estadística. Es continua y simétrica alrededor de su media. Muchos fenómenos naturales siguen aproximadamente esta distribución.  \n",
    "- La fórmula para calcularla es:\n",
    "\n",
    "\n",
    "$$\n",
    "f(x; \\mu, \\sigma^2) = \\frac{1}{\\sqrt{2\\pi \\sigma^2}} e^{-\\frac{(x - \\mu)^2}{2\\sigma^2}}\n",
    "$$\n",
    "\n",
    "\n",
    "Donde:\n",
    "\n",
    "\n",
    "- \\( f(x; \\mu, \\sigma^2) \\): Función de densidad de probabilidad de la distribución normal.\n",
    "- \\( \\mu \\): Media (o valor esperado) de la distribución, que indica el punto central de la distribución.\n",
    "- \\( \\sigma \\): Desviación estándar, que mide la dispersión de los datos alrededor de la media.\n",
    "- \\( e \\): Base del logaritmo natural (aproximadamente \\( 2.71828 \\)).\n",
    "- \\( \\pi \\): Constante matemática pi (\\( \\pi \\approx 3.14159 \\)).\n",
    "\n",
    "\n",
    "### Ejemplo:\n",
    "\n",
    "\n",
    "### Problema:\n",
    "El peso de los paquetes de cereal sigue una distribución normal con $ \\mu = 500 \\, \\text{g} $ y $ \\sigma = 10 \\, \\text{g} $. ¿Cuál es la probabilidad de que un paquete pese entre 490 g y 510 g?\n",
    "\n",
    "\n",
    "### Solución:\n",
    "La función de densidad de la distribución normal está dada por:\n",
    "$$\n",
    "f(x; \\mu, \\sigma^2) = \\frac{1}{\\sqrt{2\\pi \\sigma^2}} e^{-\\frac{(x - \\mu)^2}{2\\sigma^2}},\n",
    "$$\n",
    "donde:\n",
    "- $ \\mu = 500 $: media,\n",
    "- $ \\sigma = 10 $: desviación estándar,\n",
    "- $ \\sigma^2 = 10^2 = 100 $: varianza.\n",
    "\n",
    "\n",
    "La probabilidad de que $ X $ esté entre 490 y 510 es:\n",
    "$$\n",
    "P(490 \\leq X \\leq 510) = \\int_{490}^{510} f(x; \\mu, \\sigma^2) \\, dx.\n",
    "$$\n",
    "\n",
    "\n",
    "Sustituimos la función de densidad:\n",
    "$$\n",
    "P(490 \\leq X \\leq 510) = \\int_{490}^{510} \\frac{1}{\\sqrt{2\\pi (10^2)}} e^{-\\frac{(x - 500)^2}{2(10^2)}} \\, dx.\n",
    "$$\n",
    "\n",
    "\n",
    "Esto equivale a:\n",
    "$$\n",
    "P(490 \\leq X \\leq 510) = \\int_{490}^{510} \\frac{1}{\\sqrt{200\\pi}} e^{-\\frac{(x - 500)^2}{200}} \\, dx.\n",
    "$$\n",
    "\n",
    "\n",
    "### Interpretación:\n",
    "El cálculo de esta integral se realiza numéricamente o usando tablas de la distribución normal. Sabemos que $ 490 $ y $ 510 $ están a $ Z = -1 $ y $ Z = 1 $ desviaciones estándar de la media, respectivamente. Usando las tablas de la distribución normal estándar:\n",
    "\n",
    "\n",
    "- $ P(Z \\leq 1) = 0.8413 $,\n",
    "- $ P(Z \\leq -1) = 0.1587 $.\n",
    "\n",
    "\n",
    "Por lo tanto:\n",
    "$$\n",
    "P(490 \\leq X \\leq 510) = P(Z \\leq 1) - P(Z \\leq -1) = 0.8413 - 0.1587 = 0.6826.\n",
    "$$\n",
    "\n",
    "\n",
    "La probabilidad es aproximadamente $ 68.26\\% $.\n",
    "\n"
   ]
  },
  {
   "cell_type": "markdown",
   "id": "5480ead8-f0dd-46a7-835b-0f307c666e19",
   "metadata": {},
   "source": [
    "# 4.6 Distribución T-Student\n",
    "\n",
    "Es una distribución de la probabilidad que se utiliza para hacer estimaciones sobre la medida de una población a partir de una muestra pequeña. Esta distribución es útil para realizar pruebas de hipótesis y crear intervalos de confianza cuando no tenemos mucha información y necesitamos ser cautelosos con nuestras estimaciones.\n",
    "\n",
    "**Expresión de la distribución de T-Student**\n",
    "\n",
    "$$\n",
    "f(t) = \\frac{\\Gamma\\left(\\frac{v+1}{2}\\right)}{\\sqrt{v \\pi} \\cdot \\Gamma\\left(\\frac{v}{2}\\right)} \\left(1 + \\frac{t^2}{v}\\right)^{-\\frac{v+1}{2}}\n",
    "$$\n",
    "\n",
    "Las variables importantes en la expresión son:\n",
    "- \\( t \\): valor de la variable aleatoria t.\n",
    "- \\( v \\): número de grados de libertad (generalmente \\( n - 1 \\), donde \\( n \\) es el tamaño de la muestra).\n",
    "- \\( \\Gamma \\): función gamma, que generaliza el factorial para números no enteros.\n",
    "\n",
    "## Ejemplo\n",
    "\n",
    "Un investigador quiere estimar la media de la altura de los estudiantes en una universidad. Toma una muestra de 10 estudiantes y obtiene las siguientes alturas (en cm):\n",
    "\n",
    "- 160, 165, 170, 175, 180, 155, 168, 172, 178, 162\n",
    "\n",
    "### Pasos:\n",
    "\n",
    "1. Calcular la media de la muestra (\\( \\bar{x} \\)):\n",
    "$$\n",
    "\\bar{x} = \\frac{160 + 165 + 170 + 175 + 180 + 155 + 168 + 172 + 178 + 162}{10} = 169\n",
    "$$\n",
    "\n",
    "2. Calcular la desviación estándar de la muestra (\\( s \\)):\n",
    "Primero, calcular la varianza:\n",
    "$$\n",
    "s^2 = \\frac{\\sum (x_i - \\bar{x})^2}{n - 1}\n",
    "$$\n",
    "Luego, calcular \\( s \\).\n",
    "\n",
    "3. Grados de libertad (\\( v \\)):\n",
    "$$\n",
    "v = n - 1 = 10 - 1 = 9\n",
    "$$\n",
    "\n",
    "4. Construir un intervalo de confianza:\n",
    "Usar la distribución t de Student para un nivel de confianza del 95%. Buscar el valor crítico \\( t_{0.025, 9} \\) en la tabla de la t de Student (aproximadamente 2.262).\n",
    "\n",
    "5. Cálculo del intervalo de confianza:\n",
    "$$\n",
    "IC = \\bar{x} \\pm t \\cdot \\frac{s}{\\sqrt{n}}\n",
    "$$\n",
    "\n",
    "Resultado:\n",
    "Supón que después de hacer los cálculos, obtienes una desviación estándar de **\\( s = 8 \\)**.\n",
    "\n",
    "Entonces, el intervalo de confianza sería:\n",
    "$$\n",
    "IC = 169 \\pm 2.262 \\cdot \\frac{8}{\\sqrt{10}} \\approx 169 \\pm 5.73\n",
    "$$\n",
    "\n",
    "### Conclusión:\n",
    "El intervalo de confianza del 95% para la media de la altura de los estudiantes en la universidad es aproximadamente **(163.27 cm, 174.73 cm)**. Esto significa que podemos estar 95% seguros de que la altura media de todos los estudiantes se encuentra dentro de este rango."
   ]
  },
  {
   "cell_type": "markdown",
   "id": "fd1fa386-dd4e-4d2e-97a8-3ccb3c452df5",
   "metadata": {},
   "source": [
    "## 4.7 Distribución Chi cuadrada\n",
    "\n",
    "Se utiliza principalmente para probar la independencia de dos conjuntos de datos categóricos y para probar la bondad de ajuste de un modelo estadístico a un conjunto de datos observados.  \n",
    "- La fórmula para calcularla es:\n",
    "\n",
    "$$\n",
    "  f(x; k) = \\frac{1}{2^{k/2} \\Gamma\\left(\\frac{k}{2}\\right)} x^{(k/2) - 1} e^{-x/2} \n",
    "$$\n",
    "\n",
    "<p>Donde:</p>\n",
    "<ul>\n",
    "    <li> \\( f(x; k) \\): Función de densidad de probabilidad de la distribución Chi-cuadrada.</li>\n",
    "    <li> \\( x \\): Variable aleatoria que sigue la distribución Chi-cuadrada.</li>\n",
    "    <li> \\( k \\): Parámetro de la distribución Chi-cuadrada, que representa los grados de libertad.</li>\n",
    "    <li> \\( \\Gamma \\): Función gamma, que es una generalización del factorial para números reales y complejos.</li>\n",
    "</ul>\n",
    "\n",
    "### Ejemplo:\n",
    "\n",
    "### Problema:\n",
    "Un investigador lanza un dado 60 veces y obtiene las siguientes frecuencias:\n",
    "\n",
    "| Cara del dado | Frecuencia observada |\n",
    "|---------------|----------------------|\n",
    "| 1             | 8                   |\n",
    "| 2             | 12                  |\n",
    "| 3             | 10                  |\n",
    "| 4             | 14                  |\n",
    "| 5             | 8                   |\n",
    "| 6             | 8                   |\n",
    "\n",
    "La frecuencia esperada para cada cara es $ E = 60 / 6 = 10 $. Calcula el estadístico $ \\chi^2 $ y la probabilidad asociada usando la función de densidad de la distribución chi-cuadrada.\n",
    "\n",
    "### Solución:\n",
    "La función de densidad de la distribución chi-cuadrada está dada por:\n",
    "$$\n",
    "f(x; k) = \\frac{1}{2^{k/2} \\Gamma\\left(\\frac{k}{2}\\right)} x^{(k/2) - 1} e^{-x/2},\n",
    "$$\n",
    "donde:\n",
    "- $ k = 5 $: grados de libertad,\n",
    "- $ \\Gamma $: función gamma.\n",
    "\n",
    "El estadístico $ \\chi^2 $ se calcula como:\n",
    "$$\n",
    "\\chi^2 = \\sum \\frac{(O_i - E_i)^2}{E_i}.\n",
    "$$\n",
    "\n",
    "Cálculo del estadístico:\n",
    "$$\n",
    "\\chi^2 = \\frac{(8-10)^2}{10} + \\frac{(12-10)^2}{10} + \\frac{(10-10)^2}{10} + \\frac{(14-10)^2}{10} + \\frac{(8-10)^2}{10} + \\frac{(8-10)^2}{10}.\n",
    "$$\n",
    "$$\n",
    "\\chi^2 = \\frac{4}{10} + \\frac{4}{10} + \\frac{0}{10} + \\frac{16}{10} + \\frac{4}{10} + \\frac{4}{10} = 3.2.\n",
    "$$\n",
    "\n",
    "Ahora, usamos la función de densidad para evaluar la probabilidad asociada. Para $ \\chi^2 = 3.2 $ y $ k = 5 $, sustituimos en:\n",
    "$$\n",
    "f(x; 5) = \\frac{1}{2^{5/2} \\Gamma\\left(\\frac{5}{2}\\right)} x^{(5/2) - 1} e^{-x/2}.\n",
    "$$\n",
    "\n",
    "Paso a paso:\n",
    "1. $ 2^{5/2} = \\sqrt{32} $.\n",
    "2. La función gamma $ \\Gamma\\left(\\frac{5}{2}\\right) $ se evalúa como $ \\Gamma\\left(\\frac{5}{2}\\right) = \\frac{3}{4}\\sqrt{\\pi}$.\n",
    "3. Sustituyendo $ x = 3.2 $:\n",
    "$$\n",
    "f(3.2; 5) = \\frac{1}{\\sqrt{32} \\cdot \\frac{3}{4}\\sqrt{\\pi}} \\cdot (3.2)^{3/2 - 1} \\cdot e^{-3.2/2}.\n",
    "$$\n",
    "\n",
    "### Interpretación:\n",
    "El cálculo exacto es tedioso y suele hacerse numéricamente. Sin embargo, comparando con tablas de la distribución chi-cuadrada para $ \\alpha = 0.05 $ y $ k = 5 $, el valor crítico es $ 11.07 $. Dado que $ \\chi^2 = 3.2 < 11.07 $, no rechazamos la hipótesis nula.\n",
    "\n",
    "Por lo tanto, no hay evidencia suficiente para concluir que el dado no es justo.\n",
    "\n"
   ]
  },
  {
   "cell_type": "markdown",
   "id": "9ec9d5fb-b736-46bc-8769-c07e3ed96e53",
   "metadata": {},
   "source": [
    "# 4.8 Distribución F\n",
    "\n",
    "Esta distribución de probabilidad es la razón de dos varianzas provenientes de dos poblaciones diferentes. Este modelo es asimétrica hacia la derecha y es descrita por los grados de libertad de su numerador(v1) y denominador (v2), es posible determinar  la probabilidad de ocurrencia de una razón específica con v1 = n1-1 y v2 = n2-1 grados de libertad en muestra de tamaño n1 y n2.\n",
    "\n",
    "\n",
    " - Expresión de la distribución F:\n",
    "\n",
    "$$\n",
    "f(x; d<sub>1</sub>, d<sub>2</sub>) =\\frac{\\left(\\frac{d_1}{d_2}\\right)^{\\frac{d_1}{2}} \\cdot x^{\\frac{d_1}{2} - 1}}{B\\left(\\frac{d_1}{2}, \\frac{d_2}{2}\\right) \\cdot \\left(1 + \\frac{d_1}{d_2} x\\right)^{\\frac{d_1 + d_2}{2}}}\n",
    "$$\n",
    "\n",
    "las variables de la distribución F son:\n",
    "\n",
    "- x: valor de la variable aleatoria que sigue la distribución F.\n",
    "- d1: número de grados de libertad del numerador.\n",
    "- d2: número de grados de libertad del denominador.\n",
    "- B(a, b): función beta, que se define como:\n",
    "$$ \n",
    "B(a, b) = \\frac{\\Gamma(a) \\cdot \\Gamma(b)}{\\Gamma(a + b)} \n",
    "$$ Donde Γ es la función gamma.\n",
    "\n",
    "### **Ejemplo**\n",
    "<p>Un investigador quiere comparar las varianzas de dos grupos de datos. El Grupo A tiene 10 observaciones y el Grupo B tiene 15 observaciones.</p>\n",
    "<ul>\n",
    "    <li><strong>Varianza del Grupo A</strong>: \\( S_A^2 = 20 \\)</li>\n",
    "    <li><strong>Varianza del Grupo B</strong>: \\( S_B^2 = 30 \\)</li>\n",
    "</ul>\n",
    "\n",
    "Pasos:\n",
    "\n",
    "1. Grados de libertad:\n",
    "<ul>\n",
    "    <li> \\( d_1 = n_A - 1 = 10 - 1 = 9 \\) </li>\n",
    "    <li> \\( d_2 = n_B - 1 = 15 - 1 = 14 \\) </li>\n",
    "</ul>\n",
    "\n",
    "2. Estadístico F:\n",
    "$$\n",
    "    F = \\frac{S_A^2}{S_B^2} = \\frac{20}{30} = \\frac{2}{3} \\approx 0.67\n",
    "$$\n",
    "\n",
    "\n",
    "3. Prueba de hipótesis:\n",
    "Se utiliza una tabla de la distribución F para determinar el valor crítico para  \n",
    "$$ d_1 = 9 $$ \n",
    "y \n",
    "$$ d_2 = 14 $$ \n",
    "al nivel de significancia deseado (por ejemplo, 0.05).\n",
    "\n",
    "Conclusión:\n",
    "<p>Si el estadístico   F  calculado es menor que el valor crítico de la tabla, no hay evidencia suficiente para rechazar la hipótesis nula de que las varianzas son iguales.</p>"
   ]
  },
  {
   "cell_type": "markdown",
   "id": "cdde5405",
   "metadata": {},
   "source": [
    "## *DISTRIBUCIÓN DE PROBABILIDAD: EJEMPLOS*"
   ]
  },
  {
   "cell_type": "markdown",
   "id": "d843014c",
   "metadata": {},
   "source": [
    "## 4.1.1\n",
    "En la tabla siguiente se muestran algunos ejemplos de variables aleatorias discretas:\n",
    "\n",
    "<table>\n",
    "    <thead>\n",
    "        <tr>\n",
    "            <th>Experimento</th>\n",
    "            <th>Variable aleatoria (X)</th>\n",
    "            <th>Valores posibles de X</th>\n",
    "        </tr>\n",
    "    </thead>\n",
    "    <tbody>\n",
    "        <tr>\n",
    "            <td>Lanzar una moneda cuatro veces</td>\n",
    "            <td>Contar el número de águilas que salen</td>\n",
    "            <td>0, 1, 2, 3, 4</td>\n",
    "        </tr>\n",
    "        <tr>\n",
    "            <td>Realizar el control de calidad de 10 teléfonos celulares</td>\n",
    "            <td>Contar el número de teléfonos celulares que presentan algún defecto</td>\n",
    "            <td>0, 1, 2, 3, 4, 5, 6, 7, 8, 9, 10</td>\n",
    "        </tr>\n",
    "        <tr>\n",
    "            <td>Jugar un partido de fútbol</td>\n",
    "            <td>Contar el número de goles que anota el equipo contrario</td>\n",
    "            <td>0, 1, 2, 3, 4, ...</td>\n",
    "        </tr>\n",
    "        <tr>\n",
    "            <td>Concierto de Rammstein en el Palacio de los Deportes</td>\n",
    "            <td>Contar el número de asistentes</td>\n",
    "            <td>0, 1, 2, 3, ..., 27,999, 28,000</td>\n",
    "        </tr>\n",
    "    </tbody>\n",
    "</table>"
   ]
  },
  {
   "cell_type": "markdown",
   "id": "21d66fdc",
   "metadata": {},
   "source": [
    "## 4.1.2\n",
    "\n",
    "Se lanzan dos monedas “justas” y se cuenta el número de “soles”. Determina la función de pro-\n",
    "babilidad para este experimento y traza la gráfica correspondiente.\n",
    "\n",
    "**Solución**\n",
    "\n",
    "Sea S : sol y A : águila.\n",
    "El espacio muestral asociado a este experimento es\n",
    "- {(A, A), (S, A), (A, S) (S, S)}\n",
    "\n",
    "Distribución de probabilidad y representación gráfica:\n",
    "\n",
    "| Resultados posibles | x | **f(x)** |\n",
    "|-------------------|---|---------|\n",
    "| (A, A) | 0 | 1/4 = 0.25     |\n",
    "| (S, A), (A,S )| 1 | 2/4 = 0.50     |\n",
    "| (S,S) | 2 | 1/4 = 0.25     |\n",
    "\n"
   ]
  },
  {
   "cell_type": "markdown",
   "id": "c8a18c6e",
   "metadata": {},
   "source": [
    "<img src=\"Imagen/Funcion de probabilidad.jpg\" alt=\"Gráfica de Sexting\">"
   ]
  },
  {
   "cell_type": "markdown",
   "id": "d670286d",
   "metadata": {},
   "source": [
    "Dada la tabla siguiente:\n",
    "\n",
    "| X | p[X =x]|\n",
    "|---|---------|\n",
    "| 0 | 0.20 |\n",
    "| 1 | 0.25 |\n",
    "| 2 | 0.15 |\n",
    "| 3 | 0.40 |\n",
    "\n",
    "\n",
    "a. Comprueba si es una distribución de probabilidad.\n",
    "\n",
    "b. Calcula $P (X = 1)$\n",
    "\n",
    "c. Calcula $P (X < 2)$\n",
    "\n",
    "d. Calcula $P (X ≥ 2)$\n",
    "\n",
    "Solución\n",
    "\n",
    "a. Para saber si es una distribución de probabilidad debemos comprobar que se cumplen las\n",
    "propiedades:\n",
    "\n",
    "- Cada una de las probabilidades están entre cero y uno.\n",
    "\n",
    "- Si sumamos las probabilidades (0.20 + 0.25 + 0.15 + 0.40), el resultado es 1.\n",
    "\n",
    "Por tanto, sí es una distribución de probabilidad.\n",
    "\n",
    "b. Buscamos en la tabla: $P (X = 1) = 0.25$\n",
    "\n",
    "c. Para calcular $P (X < 2)$, primero determinamos los valores de X que son menores a 2, es\n",
    "decir, $X = 0, 1$. Como son eventos independientes, sumamos las probabilidades asociadas\n",
    "\n",
    "como se muestra a continuación:\n",
    "\n",
    "$$P(X < 2) = P(X = 0) + P(X = 1) = 0.20 + 0.25 = 0.45$$\n",
    "\n",
    "Este cálculo recibe el nombre de probabilidad acumulada.\n",
    "d. Para calcular $P (X ≥ 2)$ disponemos de dos formas:\n",
    "i. Determinamos los valores de X mayores o iguales a 2 y sumamos sus probabilidades:\n",
    "\n",
    "$$P (X ≥ 2) = P (X = 2) + P (X = 3) = 0.15 + 0.40 = 0.55$$\n",
    "\n",
    "ii. Hacemos un “truco” con el concepto de complemento:\n",
    "\n",
    "$$P (X ≥ 2) = 1 – P (X < 2) = 1 – 0.45 = 0.55$$"
   ]
  },
  {
   "cell_type": "markdown",
   "id": "1e29b799",
   "metadata": {},
   "source": [
    "## 4.1.3\n",
    "\n",
    "Se lanza un dado “justo” y se apunta el número que se observa en la cara superior. De acuerdo con esto:\n",
    "\n",
    "a. Determina la distribución de probabilidad.\n",
    "\n",
    "Como es un dado “justo”, cada una de sus caras tiene la misma probabilidad de “salir”. Entonces,\n",
    "X es el número que aparece en la cara superior, donde $X = 1, 2, 3, 4, 5, 6.$\n",
    " La distribución de probabilidad queda de esta forma:\n",
    " | X | p[X = x]|\n",
    "|---|---------|\n",
    "| 1 | 1/6     |\n",
    "| 2 | 1/6     |\n",
    "| 3 | 1/6     |\n",
    "| 4 | 1/6     |\n",
    "| 5 | 1/6     |\n",
    "| 6 | 1/6     |\n",
    "\n",
    "b. Calcula la probabilidad de que el número sea un número par.\n",
    "\n",
    "La probabilidad de que sea un número par se calcula así:\n",
    "\n",
    "$$P(X sea par) = P (X = 2 o 4 o 6) = P(X = 2)+P(X=4)+P(X=6) =1/6 + 1/6 +1/6=0.5$$\n",
    "\n",
    "c. Calcula la probabilidad de que el número sea menor que 3.\n",
    "La probabilidad de que el número sea menor que 3 se determina de esta manera:\n",
    "\n",
    "$$P(X<3) = P(X = 1 o 2) = P(X = 1) + P(X =2) =1/6 + 1/6 =0.3333$$"
   ]
  },
  {
   "cell_type": "markdown",
   "id": "0de1970f",
   "metadata": {},
   "source": [
    "Media o valor esperado :\n",
    "\n",
    "<!DOCTYPE html>\n",
    "<html lang=\"es\">\n",
    "<head>\n",
    "    <meta charset=\"UTF-8\">\n",
    "    <meta name=\"viewport\" content=\"width=device-width, initial-scale=1.0\">\n",
    "    <title>Fórmula de Media</title>\n",
    "</head>\n",
    "<body>\n",
    "\n",
    "<math xmlns=\"http://www.w3.org/1998/Math/MathML\">\n",
    "    <mi>&#x03BC;</mi>\n",
    "    <mo>=</mo>\n",
    "    <mi>E</mi>\n",
    "    <mo>(</mo>\n",
    "    <mi>X</mi>\n",
    "    <mo>)</mo>\n",
    "    <mo>=</mo>\n",
    "    <mo>&#x2211;</mo>\n",
    "    <msubsup>\n",
    "        <mi>i</mi>\n",
    "        <mo></mo>\n",
    "        <mo></mo>\n",
    "    </msubsup>\n",
    "    <mi>x</mi>\n",
    "    <msub>\n",
    "        <mi>i</mi>\n",
    "    </msub>\n",
    "    <mo>P</mo>\n",
    "    <mo>(</mo>\n",
    "    <mi>X</mi>\n",
    "    <mo>=</mo>\n",
    "    <mi>x</mi>\n",
    "    <msub>\n",
    "        <mi>i</mi>\n",
    "    </msub>\n",
    "    <mo>)</mo>\n",
    "</math>\n",
    "\n",
    "</body>\n",
    "</html>"
   ]
  },
  {
   "cell_type": "markdown",
   "id": "313ad420",
   "metadata": {},
   "source": [
    "Varianza y desviación estándar:\n",
    "\n",
    "<!DOCTYPE html>\n",
    "<html lang=\"es\">\n",
    "<head>\n",
    "    <meta charset=\"UTF-8\">\n",
    "    <meta name=\"viewport\" content=\"width=device-width, initial-scale=1.0\">\n",
    "    <title>Fórmula de Varianza</title>\n",
    "</head>\n",
    "<body>\n",
    "\n",
    "<math xmlns=\"http://www.w3.org/1998/Math/MathML\">\n",
    "    <mi>&#x03C3;</mi>\n",
    "    <msup>\n",
    "        <mo>2</mo>\n",
    "    </msup>\n",
    "    <mo>=</mo>\n",
    "    <mi>Var</mi>\n",
    "    <mo>(</mo>\n",
    "    <mi>X</mi>\n",
    "    <mo>)</mo>\n",
    "    <mo>=</mo>\n",
    "    <mi>E</mi>\n",
    "    <mo>[</mo>\n",
    "    <mo>(</mo>\n",
    "    <mi>X</mi>\n",
    "    <mo>-</mo>\n",
    "    <mi>&#x03BC;</mi>\n",
    "    <mo>)</mo>\n",
    "    <msup>\n",
    "        <mo>2</mo>\n",
    "    </msup>\n",
    "    <mo>]</mo>\n",
    "    <mo>=</mo>\n",
    "    <mo>&#x2211;</mo>\n",
    "    <msubsup>\n",
    "        <mi>i</mi>\n",
    "        <mo></mo>\n",
    "        <mo></mo>\n",
    "    </msubsup>\n",
    "    <mo>(</mo>\n",
    "    <mi>x</mi>\n",
    "    <msub>\n",
    "        <mi>i</mi>\n",
    "    </msub>\n",
    "    <mo>-</mo>\n",
    "    <mi>&#x03BC;</mi>\n",
    "    <mo>)</mo>\n",
    "    <msup>\n",
    "        <mo>2</mo>\n",
    "    </msup>\n",
    "    <mo>P</mo>\n",
    "    <mo>(</mo>\n",
    "    <mi>X</mi>\n",
    "    <mo>=</mo>\n",
    "    <mi>x</mi>\n",
    "    <msub>\n",
    "        <mi>i</mi>\n",
    "    </msub>\n",
    "    <mo>)</mo>\n",
    "</math>\n",
    "\n",
    "</body>\n",
    "</html>\n",
    " o tambien \n",
    "<!DOCTYPE html>\n",
    "<html lang=\"es\">\n",
    "<head>\n",
    "    <meta charset=\"UTF-8\">\n",
    "    <meta name=\"viewport\" content=\"width=device-width, initial-scale=1.0\">\n",
    "    <title>Fórmula de Desviación Estándar</title>\n",
    "</head>\n",
    "<body>\n",
    "\n",
    "<math xmlns=\"http://www.w3.org/1998/Math/MathML\">\n",
    "    <mi>&#x03C3;</mi>\n",
    "    <mo>=</mo>\n",
    "    <mi>Var</mi>\n",
    "    <mo>(</mo>\n",
    "    <mi>X</mi>\n",
    "    <mo>)</mo>\n",
    "    <mo>=</mo>\n",
    "    <mi>E</mi>\n",
    "    <mo>[</mo>\n",
    "    <mo>(</mo>\n",
    "    <mi>X</mi>\n",
    "    <mo>-</mo>\n",
    "    <mi>&#x03BC;</mi>\n",
    "    <mo>)</mo>\n",
    "    <msup>\n",
    "        <mo>2</mo>\n",
    "    </msup>\n",
    "    <mo>]</mo>\n",
    "</math>\n",
    "\n",
    "</body>\n",
    "</html>"
   ]
  },
  {
   "cell_type": "markdown",
   "id": "b0fe66ea",
   "metadata": {},
   "source": [
    "Para seguir con el ejemplo 2, calcula la media y la desviación estándar del número de soles que\n",
    "pueden caer cuando se lanzan dos monedas.\n",
    "Solución\n",
    "La distribución de probabilidad para este ejemplo es:\n",
    "\n",
    " | X | p[X = x]|\n",
    " |---|---------|\n",
    " | 0 | 1/4 = 0.25     |\n",
    " | 1 | 2/4 = 0.50    |\n",
    " | 2 | 1/4 = 0.25    |\n",
    "\n",
    "<img src=\"Imagen/Desviacion.jpg\" alt=\"Gráfica de Sexting\">\n",
    "\n",
    "Despues:\n",
    "\n",
    "<img src=\"Imagen/Varianza.jpg\" alt=\"Gráfica de Sexting\">"
   ]
  },
  {
   "cell_type": "markdown",
   "id": "7a1f9600",
   "metadata": {},
   "source": [
    "## 4.2.1\n",
    "\n",
    "Se sabe que X es una variable aleatoria que sigue una distribución binomial.\n",
    "\n",
    "Con $n = 5$ y $p = 0.4$, determina:  \n",
    "a. P (X = 1)  \n",
    "b. P (X < 2)  \n",
    "c. P (X > 2)  \n",
    "\n",
    "a. Aplicando la función de distribución binomial:\n",
    "$$\n",
    "P(X = 1) = \\binom{5}{1} (0.4)^1 (0.6)^{5-1} = 0.2592\n",
    "$$\n",
    "\n",
    "El equipo Pumas de la unam fue líder general del Torneo de clausura 2011 de futbol hasta la\n",
    "jornada 16. En esa jornada, Pumas enfrentó al Necaxa y, al ver sus estadísticas, tenemos que\n",
    "de ocho tiros al arco, anotó un gol. De acuerdo con esto, si en el partido siguiente dispara seis\n",
    "veces a la portería:\n",
    "\n",
    "a. ¿Cuál es la probabilidad de que Pumas anote dos goles?\n",
    "\n",
    "b. ¿Cuál es la probabilidad de que anote máximo dos goles?\n",
    "Solución\n",
    "\n",
    "Este problema es binomial, ya que al tirar a la portería tenemos sólo dos posibilidades: es gol o\n",
    "no. Sean entonces:\n",
    "\n",
    "- X: la variable aleatoria del número de goles anotados\n",
    "- p: la probabilidad de anotar un gol; en este caso, p = 18.\n",
    "- n: número de ensayos; aquí, n = 6\n",
    "\n",
    "Así, tenemos lo siguiente."
   ]
  },
  {
   "cell_type": "markdown",
   "id": "3e5944ba",
   "metadata": {},
   "source": [
    "$$P(X = 2) = \\binom{6}{2} (0.125)^2 (0.875)^{6 - 2} = 0.1374$$"
   ]
  },
  {
   "cell_type": "markdown",
   "id": "d6e8ba40",
   "metadata": {},
   "source": [
    "# *EJERCICIOS*"
   ]
  },
  {
   "cell_type": "code",
   "execution_count": 3,
   "id": "db992a15-c05c-4296-8b58-a2eacebccfca",
   "metadata": {},
   "outputs": [],
   "source": [
    "# Importar las bibliotecas necesarias \n",
    "import matplotlib.pyplot as plt\n",
    "from scipy.stats import binom\n",
    "from scipy.stats import poisson"
   ]
  },
  {
   "cell_type": "markdown",
   "id": "67588d3d",
   "metadata": {},
   "source": [
    "## *I. Teoría y algo más*\n",
    "\n",
    "1. Contesta verdadero o falso según corresponda en los enunciados siguientes.  \n",
    "\n",
    "a) Una variable aleatoria es cuando se le asigna un número a cada evento del espacio muestral.  \n",
    "\n",
    "b) Una variable aleatoria no puede ser discreta.  \n",
    "\n",
    "c) Una distribución de probabilidad es una tabla donde se muestran los valores de la variable\n",
    "aleatoria, así como las probabilidades respectivas.  \n",
    "\n",
    "d) Las propiedades de una distribución discreta son que la probabilidad de cada valor de la va-\n",
    "riable aleatoria toma valores entre 0 y 1, y que la suma de todas ellas siempre es 1.  \n",
    "\n",
    "e) Un ensayo de Bernoulli tiene al menos dos resultados posibles.  \n",
    "\n",
    "f) Una distribución binomial surge, en principio, de repetir n veces un ensayo de Bernoulli.  \n",
    "\n",
    "g) Si la probabilidad de éxito es pequeña o el número de ensayos es muy grande, entonces una\n",
    "variable con distribución binomial se puede modelar como una de Poisson.  \n",
    "\n",
    "h) A p se le conoce como probabilidad de éxito, ya que se refiere a la ocurrencia de eventos po-\n",
    "sitivos o agradables.  \n",
    "\n",
    "i) Una distribución de Poisson sirve para determinar la ocurrencia de eventos en un tiempo o\n",
    "espacio dado.  \n",
    "\n",
    "j) En una distribución de Poisson, la media y la desviación estándar tienen el mismo valor.  "
   ]
  },
  {
   "cell_type": "markdown",
   "id": "bdcee78e",
   "metadata": {},
   "source": [
    "|inciso   |  **V**  | **F** |\n",
    "|--------:|:--:|:--:|\n",
    "|  a)  |  V  |    |\n",
    "|  b)  |    |  F  |\n",
    "|  c)  |  V  |    |\n",
    "|  d)  |  V |    |\n",
    "|  e)  |  V |    |\n",
    "|  f)  |  V  |    |\n",
    "|  g)  |  V  |    |\n",
    "|  h)  |  V  |    |\n",
    "|  i)  |  V  |    |\n",
    "|  j)  |  V  |    |"
   ]
  },
  {
   "cell_type": "markdown",
   "id": "d90bfcd8",
   "metadata": {},
   "source": [
    "## *II. Pienso, ... ¿y luego?*\n",
    "\n",
    "2. El sexting es una forma de relación virtual entre adolescentes y jóvenes por medio de redes sociales de internet. Este fenómeno consiste en que los(as) chicos(as) se toman fotografías o videos con teléfono celular o cámara, semi o totalmente desnudos(as), en poses atractivas, para enviarlas por mensaje de texto o correo electrónico a contactos personales.  \n",
    "\n",
    "La comunidad flogger (usuarios de las redes sociales) define el sexting como un recurso para tener popularidad.\n",
    "Según indicó *\"una encuesta en internet realizada para The Associated Press y mtv por la\n",
    "firma Knowledge Networks, en septiembre de 2009 24% de los adolescentes de 14 a 17 años\n",
    "en Estados Unidos había estado involucrado en algún tipo de sexting. Un sondeo telefónico,\n",
    "celebrado en diciembre de 2009, del Proyecto de Internet y Vida Estadounidense del Centro de\n",
    "Investigación Pew, arrojó que 5% de los estadounidenses de 14 a 17 años había enviado fotos o\n",
    "videos desnudos o casi desnudos”*. (Hoffman, 2011).\n",
    "\n",
    "a) ¿Crees que esta situación es similar en México? ¿Qué consecuencias en el corto y en el largo\n",
    "plazos genera enviar fotos “sugerentes” por alguna red social?\n",
    "\n",
    "b) Si estuvieras en una fiesta a la que asisten 30 chicos y chicas, ¿cuántos de ellos crees que hayan\n",
    "enviado una foto donde aparezcan desnudos o semidesnudos? ¿Cuál sería la probabilidad de\n",
    "que cuando mucho tres hayan mandado una foto de este tipo?\n"
   ]
  },
  {
   "cell_type": "markdown",
   "id": "6242f337",
   "metadata": {},
   "source": [
    "## *III. Puro deporte*\n",
    "\n",
    "## 3. Sólo para practicar.  \n",
    "Se lanzan dos dados “justos” y se suman los valores que aparecen en la cara superior.  \n",
    "a) Indica el espacio muestral para este experimento."
   ]
  },
  {
   "cell_type": "code",
   "execution_count": null,
   "id": "3475ef8c-f572-4035-9035-f579c66f9ecd",
   "metadata": {},
   "outputs": [],
   "source": []
  },
  {
   "cell_type": "markdown",
   "id": "53e3d57a",
   "metadata": {},
   "source": [
    "b) Construye la tabla de distribución correspondiente y traza su gráfica."
   ]
  },
  {
   "cell_type": "code",
   "execution_count": null,
   "id": "e0ceb195",
   "metadata": {},
   "outputs": [],
   "source": []
  },
  {
   "cell_type": "markdown",
   "id": "c8b6f2aa",
   "metadata": {},
   "source": [
    "## 4. Sólo para practicar.  \n",
    "A continuación se presentan tres supuestas distribuciones de probabilidad:  \n",
    "\n",
    "        (I)\n",
    "|X |P(X)|\n",
    "|---|---------|\n",
    "| 0 | 0.2     |\n",
    "| 1 | 0.1     |\n",
    "| 2 | -0.3    |\n",
    "| 3 | 0.4     |\n",
    "\n",
    "        (II)\n",
    "|X |P(X)|\n",
    "|---|---------|\n",
    "| 0 | 0.3     |\n",
    "| 1 | 0.4     |\n",
    "| 2 | 0.1     |\n",
    "| 3 | 0.3    |\n",
    "\n",
    "\n",
    "        (II)\n",
    "|X |P(X)|\n",
    "|---|---------|\n",
    "| 0 | 0.2     |\n",
    "| 1 | 0.3     |\n",
    "| 2 | 0.1     |\n",
    "| 3 | 0.4    |\n",
    "\n",
    "a) Para cada una de ellas, explica si satisfacen las propiedades de toda distribución de probabilidad discreta."
   ]
  },
  {
   "cell_type": "code",
   "execution_count": null,
   "id": "2d005bb4",
   "metadata": {},
   "outputs": [],
   "source": []
  },
  {
   "cell_type": "markdown",
   "id": "0b1c6e06",
   "metadata": {},
   "source": [
    "b) De la que realmente es una distribución de probabilidad, calcula la media y la desviación\n",
    "estándar."
   ]
  },
  {
   "cell_type": "code",
   "execution_count": null,
   "id": "9365af7e",
   "metadata": {},
   "outputs": [],
   "source": []
  },
  {
   "cell_type": "markdown",
   "id": "2b287764",
   "metadata": {},
   "source": [
    "## 5. Negocios.  \n",
    "A continuación se presentan las utilidades estimadas del próximo año para una empresa de la industria del vestido:\n",
    "\n",
    "| X (en mil pesos) | -6 | -3 | 0 | 5 | 10 |\n",
    "|------------------|----|----|----|--|----|\n",
    "| P(X) | 0.15 | 0.25 | 0.3 | ? | ? |\n"
   ]
  },
  {
   "cell_type": "markdown",
   "id": "8455f09b",
   "metadata": {},
   "source": []
  },
  {
   "cell_type": "markdown",
   "id": "8fbb04af",
   "metadata": {},
   "source": [
    "a) Completa la tabla considerando que la probabilidad de obtener una utilidad de 10 000 000\n",
    "es el doble de la probabilidad de ganar 5 000 000."
   ]
  },
  {
   "cell_type": "code",
   "execution_count": null,
   "id": "89c90fbc",
   "metadata": {},
   "outputs": [],
   "source": []
  },
  {
   "cell_type": "markdown",
   "id": "52044d25",
   "metadata": {},
   "source": [
    "b) ¿Cuál es la probabilidad de que la empresa sea rentable?"
   ]
  },
  {
   "cell_type": "code",
   "execution_count": null,
   "id": "2730ecae",
   "metadata": {},
   "outputs": [],
   "source": []
  },
  {
   "cell_type": "markdown",
   "id": "24cb16f2",
   "metadata": {},
   "source": [
    "c) ¿Cuál es la ganancia esperada en el primer año?"
   ]
  },
  {
   "cell_type": "markdown",
   "id": "0174c9db",
   "metadata": {},
   "source": []
  },
  {
   "cell_type": "markdown",
   "id": "01deffc6",
   "metadata": {},
   "source": [
    "## 6. Negocios.\n",
    "El Café de la Sirena ha visto que 22% de los pedidos son frapuccinos, 25% capuccinos, 15% latte, 25% moka y 13% tés. Los precios de las bebidas en tamaño grande son $36, $30, $30, $35 y $34, respectivamente.\n",
    "\n",
    "a) Determina la distribución de probabilidad para la venta de bebidas en el Café de la Sirena.\n"
   ]
  },
  {
   "cell_type": "code",
   "execution_count": null,
   "id": "e150a8cc",
   "metadata": {},
   "outputs": [],
   "source": []
  },
  {
   "cell_type": "markdown",
   "id": "d66b1193",
   "metadata": {},
   "source": [
    "b) Calcula la cantidad promedio que se cobra por una bebida."
   ]
  },
  {
   "cell_type": "code",
   "execution_count": null,
   "id": "0ffa8cb1",
   "metadata": {},
   "outputs": [],
   "source": []
  },
  {
   "cell_type": "markdown",
   "id": "898d395d",
   "metadata": {},
   "source": [
    "\n",
    "c) ¿Cuál es la varianza y la desviación estándar de la cantidad que se cobra por una bebida?"
   ]
  },
  {
   "cell_type": "code",
   "execution_count": null,
   "id": "fb81f87e",
   "metadata": {},
   "outputs": [],
   "source": []
  },
  {
   "cell_type": "markdown",
   "id": "03fe0f6c",
   "metadata": {},
   "source": [
    "## 7. Seguridad.  \n",
    "Según un anuncio comercial de colchones, 30% de los accidentes automovilísticos se deben a la falta de sueño. Supón que en un día cualquiera ocurren 10 accidentes automovilísticos.\n",
    "\n",
    "a) Determina la distribución de probabilidad y traza la gráfica correspondiente."
   ]
  },
  {
   "cell_type": "code",
   "execution_count": 5,
   "id": "bed80e9a",
   "metadata": {},
   "outputs": [
    {
     "data": {
      "image/png": "[encoded data removed]",
      "text/plain": [
       "<Figure size 640x480 with 1 Axes>"
      ]
     },
     "metadata": {},
     "output_type": "display_data"
    }
   ],
   "source": [
    "#Definir los parametros de ls distribución binomial\n",
    "n = 10 # Numero de ensayos\n",
    "p = 0.3# Probabilidad de exito en cada ensayo\n",
    "\n",
    "# Crear un array de valores para el eje x\n",
    "k = range(0, n+1)\n",
    "\n",
    "# Calcular la probabilidad de cada valor en el eje x\n",
    "y = binom.pmf(k, n, p)\n",
    "\n",
    "#Graficar la distribucion binomial\n",
    "plt.bar(k, y)\n",
    "plt.xlabel(\"Numero de éxitos\")\n",
    "plt.ylabel(\"Probabilidad\")\n",
    "plt.title(\"Distribución Binomial\")\n",
    "plt.show()"
   ]
  },
  {
   "cell_type": "markdown",
   "id": "14a520d7",
   "metadata": {},
   "source": [
    "b) ¿Qué tipo de sesgo presenta la distribución?"
   ]
  },
  {
   "cell_type": "code",
   "execution_count": null,
   "id": "904fdabb-a98f-4fe7-937a-b992cc9a784b",
   "metadata": {},
   "outputs": [],
   "source": []
  },
  {
   "cell_type": "markdown",
   "id": "feb1d2c6",
   "metadata": {},
   "source": [
    "c) Calcula la probabilidad de que cinco de los accidentes se hayan debido a la falta de sueño."
   ]
  },
  {
   "cell_type": "code",
   "execution_count": 6,
   "id": "5a11a4ef",
   "metadata": {},
   "outputs": [
    {
     "name": "stdout",
     "output_type": "stream",
     "text": [
      "0.10291934519999989\n"
     ]
    }
   ],
   "source": [
    "y = binom.pmf(5,10,0.3)\n",
    "print(y)"
   ]
  },
  {
   "cell_type": "markdown",
   "id": "c9b2c949",
   "metadata": {},
   "source": [
    "d) Calcula la probabilidad de que al menos dos accidentes hayan sido ocasionados por la falta\n",
    "de sueño."
   ]
  },
  {
   "cell_type": "code",
   "execution_count": 8,
   "id": "7e4f7da2",
   "metadata": {},
   "outputs": [
    {
     "name": "stdout",
     "output_type": "stream",
     "text": [
      "[2, 3, 4, 5, 6, 7, 8, 9, 10]\n",
      "0.8506916540999996\n"
     ]
    }
   ],
   "source": [
    "k =list(range(2,11))\n",
    "print(k)\n",
    "suma = 0\n",
    "for valor in k:\n",
    "    suma += binom.pmf(valor,10,0.3)\n",
    "\n",
    "print(suma)"
   ]
  },
  {
   "cell_type": "markdown",
   "id": "5ceea453",
   "metadata": {},
   "source": [
    "e) ¿Cuántos accidentes esperarías que fueran provocados por falta de sueño?"
   ]
  },
  {
   "cell_type": "code",
   "execution_count": 9,
   "id": "2fd56cd4",
   "metadata": {},
   "outputs": [
    {
     "name": "stdout",
     "output_type": "stream",
     "text": [
      "3.0\n"
     ]
    }
   ],
   "source": [
    "# Valor esperado\n",
    "print(10*0.3)"
   ]
  },
  {
   "cell_type": "markdown",
   "id": "f8008846",
   "metadata": {},
   "source": [
    "## 8. Redes sociales.  \n",
    "En México, 6% de los 30 millones de usuarios de internet que hay utilizan Twitter. (Torres, 2010). Si conoces a 15 personas\n",
    "que sean asiduas a las redes sociales:  \n",
    "a) ¿Cuál es la probabilidad de que 9 o más utilicen Twitter?"
   ]
  },
  {
   "cell_type": "code",
   "execution_count": 10,
   "id": "cefa93dc",
   "metadata": {},
   "outputs": [
    {
     "name": "stdout",
     "output_type": "stream",
     "text": [
      "[9, 10, 11, 12, 13, 14, 15]\n",
      "3.61683725007463e-08\n"
     ]
    }
   ],
   "source": [
    "k = list(range(9,16))\n",
    "print(k)\n",
    "suma = 0\n",
    "for valor in k:\n",
    "    #suma = suma + binom.pmf(valor,10,0.3)\n",
    "    suma += binom.pmf(valor,15,0.06)\n",
    "print(suma)"
   ]
  },
  {
   "cell_type": "markdown",
   "id": "3c325a24",
   "metadata": {},
   "source": [
    "b) ¿Cuál es la probabilidad de que máximo dos usen esa red?"
   ]
  },
  {
   "cell_type": "code",
   "execution_count": 11,
   "id": "41e9dc0a",
   "metadata": {},
   "outputs": [
    {
     "name": "stdout",
     "output_type": "stream",
     "text": [
      "[0, 1, 2]\n",
      "0.9428666761723694\n"
     ]
    }
   ],
   "source": [
    "k =list(range(0,3))\n",
    "print(k)\n",
    "suma = 0\n",
    "for valor in k:\n",
    "    #suma = suma + binom.pmf(valor,10,0.3)\n",
    "    suma += binom.pmf(valor,15,0.06)\n",
    "\n",
    "print(suma)"
   ]
  },
  {
   "cell_type": "markdown",
   "id": "0058d101",
   "metadata": {},
   "source": [
    "## 9. Seguros.  \n",
    "De acuerdo con la Asociación Mexicana de Instituciones de Seguros (amis), en 2010 sólo 47% de los automóviles contaban con un seguro. Si se realizara una revisión a 18 automóviles:  \n",
    "  \n",
    "a) ¿Cómo sería su distribución? Determina la distribución de probabilidad, traza la gráfica\n",
    "correspondiente e indica el tipo de sesgo que presenta."
   ]
  },
  {
   "cell_type": "code",
   "execution_count": null,
   "id": "6ab08654",
   "metadata": {},
   "outputs": [],
   "source": []
  },
  {
   "cell_type": "markdown",
   "id": "d006b6a1",
   "metadata": {},
   "source": [
    "b) ¿Cuántos autos esperas que cuenten con seguro?"
   ]
  },
  {
   "cell_type": "code",
   "execution_count": null,
   "id": "ef47b709",
   "metadata": {},
   "outputs": [],
   "source": []
  },
  {
   "cell_type": "markdown",
   "id": "2dafe38e",
   "metadata": {},
   "source": [
    "c) ¿Cuál es la probabilidad de que 13 o más autos tengan seguro?"
   ]
  },
  {
   "cell_type": "code",
   "execution_count": null,
   "id": "7d9dfe47",
   "metadata": {},
   "outputs": [],
   "source": []
  },
  {
   "cell_type": "markdown",
   "id": "891324de",
   "metadata": {},
   "source": [
    "## 10. Sexualidad.  \n",
    "Con base en la Encuesta Nacional de Juventud 2005, 90% de los adolescentes entre 15 y 19 años afirmó que tuvo su primera relación sexual antes de los 18 años. Si en un grupo hay 20 adolescentes entre 15 y 19 años, entonces:  \n",
    "\n",
    "a) ¿Cuántos esperarías que contestaran que tuvieron su primera relación sexual antes de los\n",
    "18 años?"
   ]
  },
  {
   "cell_type": "code",
   "execution_count": null,
   "id": "3673b1d4",
   "metadata": {},
   "outputs": [],
   "source": []
  },
  {
   "cell_type": "markdown",
   "id": "d26da392",
   "metadata": {},
   "source": [
    "b) ¿Cuál es la probabilidad de que 12 de ellos digan que tuvieron su primera relación sexual\n",
    "antes de los 18 años?"
   ]
  },
  {
   "cell_type": "code",
   "execution_count": null,
   "id": "7751f54e",
   "metadata": {},
   "outputs": [],
   "source": []
  },
  {
   "cell_type": "markdown",
   "id": "97b7d7f5",
   "metadata": {},
   "source": [
    "c) ¿Cuál es la probabilidad de que más de 17 digan que tuvieron su primera relación sexual\n",
    "antes de los 18 años?"
   ]
  },
  {
   "cell_type": "code",
   "execution_count": null,
   "id": "152fb938",
   "metadata": {},
   "outputs": [],
   "source": []
  },
  {
   "cell_type": "markdown",
   "id": "7a4f3f98",
   "metadata": {},
   "source": [
    "## 11. Servicios.\n",
    "De acuerdo con los datos proporcionados por la Secretaría de Salud en 2010, 34% de la población utiliza los servicios de salud públicos federales o estatales. Se quiere realizar una encuesta a 50 personas sobre la calidad de los servicios de salud. Encuentra:  \n",
    "\n",
    "a) ¿Qué proporción de las personas esperas que asistan a los servicios de salud públicos?"
   ]
  },
  {
   "cell_type": "code",
   "execution_count": null,
   "id": "a8e31f8f",
   "metadata": {},
   "outputs": [],
   "source": []
  },
  {
   "cell_type": "markdown",
   "id": "d1342b06",
   "metadata": {},
   "source": [
    "b) ¿Qué probabilidad existe de que 30 personas utilicen los servicios que brinda el gobierno?"
   ]
  },
  {
   "cell_type": "code",
   "execution_count": null,
   "id": "9ed4274d",
   "metadata": {},
   "outputs": [],
   "source": []
  },
  {
   "cell_type": "markdown",
   "id": "1df55199",
   "metadata": {},
   "source": [
    "c) ¿Qué probabilidad hay de que cuando mucho 10 utilicen estos servicios?"
   ]
  },
  {
   "cell_type": "code",
   "execution_count": null,
   "id": "c26e061b",
   "metadata": {},
   "outputs": [],
   "source": []
  },
  {
   "cell_type": "markdown",
   "id": "2167cd30",
   "metadata": {},
   "source": [
    "## 12. Psicología.  \n",
    "Según encuestas realizadas, uno de cada cuatro adolescentes estaría dispuesto a someterse a una cirugía plástica para parecerse a alguna personalidad como David Beckham, Usher o Justin Bieber. Supón que 15 personas asisten a una reunión,  \n",
    "\n",
    "a) ¿Cuál es la probabilidad de que al menos 10 de ellas quisieran parecerse a alguna personalidad?\n"
   ]
  },
  {
   "cell_type": "code",
   "execution_count": null,
   "id": "e543bc98",
   "metadata": {},
   "outputs": [],
   "source": []
  },
  {
   "cell_type": "markdown",
   "id": "d96f0a09",
   "metadata": {},
   "source": [
    "b) ¿Cuál es la probabilidad de que exactamente cinco quisieran practicarse una cirugía plástica?"
   ]
  },
  {
   "cell_type": "code",
   "execution_count": null,
   "id": "37268a62",
   "metadata": {},
   "outputs": [],
   "source": []
  },
  {
   "cell_type": "markdown",
   "id": "7fc61568",
   "metadata": {},
   "source": [
    "## 13. Economía.  \n",
    "El Mar de Cortés, en México, es la zona donde se localiza el mayor número de granjas dedicadas al cultivo de ostras perleras. Según los productores, 3.6 de cada cien ostras pueden llegar a tener un buen valor comercial. Si tenemos 150 ostras,  \n",
    "\n",
    "a) Determina la probabilidad de que 12 de ellas tengan perlas de buen valor comercial."
   ]
  },
  {
   "cell_type": "code",
   "execution_count": null,
   "id": "ff188c62",
   "metadata": {},
   "outputs": [],
   "source": []
  },
  {
   "cell_type": "markdown",
   "id": "5cc2795b",
   "metadata": {},
   "source": [
    "b) Encuentra la probabilidad de que cuando mucho dos tengan perlas de buen valor comercial."
   ]
  },
  {
   "cell_type": "code",
   "execution_count": null,
   "id": "29fcdddb",
   "metadata": {},
   "outputs": [],
   "source": []
  },
  {
   "cell_type": "markdown",
   "id": "6d0b776b",
   "metadata": {},
   "source": [
    "## 14. Salud.  \n",
    "De acuerdo con la Encuesta de Consumo de Alcohol, Tabaco y otras Drogas en la Ciudad de México (2009), 25.3% de las personas consumen marihuana, drogas inhalables o cocaína. Si tenemos un grupo de 25 personas:  \n",
    "  \n",
    "a) ¿Cuál es la probabilidad de que 10 de ellas consuman alguna de estas drogas?"
   ]
  },
  {
   "cell_type": "code",
   "execution_count": null,
   "id": "5be3d2d3",
   "metadata": {},
   "outputs": [],
   "source": []
  },
  {
   "cell_type": "markdown",
   "id": "d0119d70",
   "metadata": {},
   "source": [
    "b) ¿Cuál es la probabilidad de que al menos 20 de ellas consuman alguna de estas drogas?"
   ]
  },
  {
   "cell_type": "code",
   "execution_count": null,
   "id": "55231541",
   "metadata": {},
   "outputs": [],
   "source": []
  },
  {
   "cell_type": "markdown",
   "id": "33c71368",
   "metadata": {},
   "source": [
    "c) De las siguientes 50 personas, ¿cuántas esperarías que consumieran alguna de estas drogas?"
   ]
  },
  {
   "cell_type": "code",
   "execution_count": null,
   "id": "789f485b",
   "metadata": {},
   "outputs": [],
   "source": []
  },
  {
   "cell_type": "markdown",
   "id": "d5c24860",
   "metadata": {},
   "source": [
    "## 15. Demografía.  \n",
    "De acuerdo con cifras del Censo Poblacional 2010, en México hay, en promedio, 3.9 habitantes por vivienda. Con esta información:  \n",
    "\n",
    "a) Construye la distribución de probabilidad, así como la gráfica correspondiente y descríbela,\n",
    "indicando qué tipo de sesgo presenta.\n"
   ]
  },
  {
   "cell_type": "code",
   "execution_count": 12,
   "id": "7d52202c",
   "metadata": {},
   "outputs": [
    {
     "data": {
      "text/plain": [
       "<function matplotlib.pyplot.show(close=None, block=None)>"
      ]
     },
     "execution_count": 12,
     "metadata": {},
     "output_type": "execute_result"
    },
    {
     "data": {
      "image/png": "[encoded data removed]",
      "text/plain": [
       "<Figure size 640x480 with 1 Axes>"
      ]
     },
     "metadata": {},
     "output_type": "display_data"
    }
   ],
   "source": [
    "# Definir el parametro lambda de la distribución de Poisson\n",
    "lambda_value = 3.9\n",
    "\n",
    "# Crear un array de valores para el eje x\n",
    "x = range(0,12)\n",
    "\n",
    "# Calcular la probabilidad de cada valor en el eje x\n",
    "y = poisson.pmf(x, lambda_value)\n",
    "\n",
    "# Graficar la distribucion de Poisson\n",
    "plt.bar(x, y)\n",
    "plt.xlabel(\"Número de ocurrencias\")\n",
    "plt.ylabel(\"Probabilidad\")\n",
    "plt.title(\"Distribución de Poisson\")\n",
    "plt.show"
   ]
  },
  {
   "cell_type": "markdown",
   "id": "bacd0890",
   "metadata": {},
   "source": [
    "b) Calcula la probabilidad de que una vivienda sea habitada por cinco personas."
   ]
  },
  {
   "cell_type": "code",
   "execution_count": 13,
   "id": "bbc02377",
   "metadata": {},
   "outputs": [
    {
     "name": "stdout",
     "output_type": "stream",
     "text": [
      "0.15219252053555266\n"
     ]
    }
   ],
   "source": [
    "y = poisson.pmf(5, 3.9)\n",
    "print(y)"
   ]
  },
  {
   "cell_type": "markdown",
   "id": "639a9ecf",
   "metadata": {},
   "source": [
    "c) Encuentra la probabilidad de que en un hogar vivan más de tres personas."
   ]
  },
  {
   "cell_type": "code",
   "execution_count": 14,
   "id": "67a419cf",
   "metadata": {},
   "outputs": [
    {
     "name": "stdout",
     "output_type": "stream",
     "text": [
      "0.546753239861271\n"
     ]
    }
   ],
   "source": [
    "k = [0,1,2,3]\n",
    "y = poisson.pmf(k, 3.9)\n",
    "print(1 - sum(y))"
   ]
  },
  {
   "cell_type": "markdown",
   "id": "099b0611",
   "metadata": {},
   "source": [
    "## 16. Turismo.  \n",
    "Al término de la Semana Santa de 2011, en la caseta de la autopista a Cuernavaca ingresaban 75 autos en promedio por minuto. Con este dato, calcula la probabilidad de que en un minuto dado, ingresaran:  \n",
    "a) 80 autos.  "
   ]
  },
  {
   "cell_type": "code",
   "execution_count": 15,
   "id": "3ce3f896",
   "metadata": {},
   "outputs": [
    {
     "name": "stdout",
     "output_type": "stream",
     "text": [
      "0.03785185834094226\n"
     ]
    }
   ],
   "source": [
    "lamda_value = 75\n",
    "k = 80\n",
    "y = poisson.pmf(k, lamda_value)\n",
    "print(y)"
   ]
  },
  {
   "cell_type": "markdown",
   "id": "c5a24b85-e4c2-41d2-aee5-bb9db7747fe4",
   "metadata": {},
   "source": [
    "b) 50 autos.  "
   ]
  },
  {
   "cell_type": "code",
   "execution_count": 16,
   "id": "c3bc440a-0819-4c7a-ad08-05bbea450387",
   "metadata": {},
   "outputs": [
    {
     "name": "stdout",
     "output_type": "stream",
     "text": [
      "0.0004987721024975739\n"
     ]
    }
   ],
   "source": [
    "lamda_value = 75\n",
    "k = 50\n",
    "y = poisson.pmf(k, lamda_value)\n",
    "print(y)"
   ]
  },
  {
   "cell_type": "markdown",
   "id": "36e3d441-723c-4be0-982a-8c4118d6b927",
   "metadata": {},
   "source": [
    "c) de que en 15 minutos, ingresaran 800 autos."
   ]
  },
  {
   "cell_type": "code",
   "execution_count": 17,
   "id": "0704ec04-d3c9-4f0b-90af-04f0b0d0dd5f",
   "metadata": {},
   "outputs": [
    {
     "name": "stdout",
     "output_type": "stream",
     "text": [
      "2.8421145575057993e-25\n"
     ]
    }
   ],
   "source": [
    "lamda_value = 1125\n",
    "k = 800\n",
    "y = poisson.pmf(k, lamda_value)\n",
    "print(y)"
   ]
  },
  {
   "cell_type": "markdown",
   "id": "3e37f712",
   "metadata": {},
   "source": [
    "## 17. Pasatiempos.  \n",
    "Abel Pérez tiene como pasatiempo armar rompecabezas. Puede pasar horas escuchando música mientras coloca piezas. El rompecabezas que actualmente arma es de 5000 piezas, y en un día coloca en promedio 100 piezas. \n",
    "\n",
    "a) Determina la probabilidad de que en un día coloque entre 100 y 110 piezas, inclusive."
   ]
  },
  {
   "cell_type": "code",
   "execution_count": 18,
   "id": "88a7d5f3",
   "metadata": {},
   "outputs": [
    {
     "name": "stdout",
     "output_type": "stream",
     "text": [
      "0.36616144983690785\n"
     ]
    }
   ],
   "source": [
    "lamda_value = 100\n",
    "k = list(range(100, 111))\n",
    "y = poisson.pmf(k, lamda_value)\n",
    "result = sum(y)\n",
    "print(result)"
   ]
  },
  {
   "cell_type": "markdown",
   "id": "ba3e3be4",
   "metadata": {},
   "source": [
    "b) Calcula la probabilidad de que en un día en que esté muy inspirado coloque 150 piezas."
   ]
  },
  {
   "cell_type": "code",
   "execution_count": 19,
   "id": "eb1017d3",
   "metadata": {},
   "outputs": [
    {
     "name": "stdout",
     "output_type": "stream",
     "text": [
      "6.511160468786359e-07\n"
     ]
    }
   ],
   "source": [
    "lamda_value = 100\n",
    "k = 150\n",
    "y = poisson.pmf(k, lamda_value)\n",
    "print(y)"
   ]
  },
  {
   "cell_type": "markdown",
   "id": "71959c14",
   "metadata": {},
   "source": [
    "c) En un día cualquiera, Abel no está inspirado. ¿Cuál es la probabilidad de que coloque 45\n",
    "piezas o menos?"
   ]
  },
  {
   "cell_type": "code",
   "execution_count": 20,
   "id": "6bf41e47",
   "metadata": {},
   "outputs": [
    {
     "name": "stdout",
     "output_type": "stream",
     "text": [
      "5.576212818454729e-10\n"
     ]
    }
   ],
   "source": [
    "lamda_value = 100\n",
    "k = list(range(46))\n",
    "y = poisson.pmf(k, lamda_value)\n",
    "result = sum(y)\n",
    "print(result)"
   ]
  },
  {
   "cell_type": "markdown",
   "id": "59e57464",
   "metadata": {},
   "source": [
    "## 18. Inseguridad.  \n",
    "De acuerdo con las estadísticas de criminalidad, en promedio se roba un auto cada tres minutos. Determina:  \n",
    "  \n",
    "a) La distribución de probabilidad y la gráfica correspondiente. Describe de manera breve la\n",
    "distribución."
   ]
  },
  {
   "cell_type": "code",
   "execution_count": 21,
   "id": "33ac69a4-fad5-4536-b223-76a121bb687d",
   "metadata": {},
   "outputs": [
    {
     "name": "stdout",
     "output_type": "stream",
     "text": [
      "k= 0 , p(k)= 0.0004987721024975739\n",
      "k= 1 , p(k)= 0.0007334883860258252\n",
      "k= 2 , p(k)= 0.0010579159413834091\n",
      "k= 3 , p(k)= 0.0014970508604481686\n",
      "k= 4 , p(k)= 0.0020792373061780294\n",
      "k= 5 , p(k)= 0.0028353235993336524\n",
      "k= 6 , p(k)= 0.0037973083919647776\n",
      "k= 7 , p(k)= 0.004996458410480097\n",
      "k= 8 , p(k)= 0.006460937599758659\n",
      "k= 9 , p(k)= 0.008213056270879858\n",
      "k= 10 , p(k)= 0.010266320338599085\n",
      "k= 11 , p(k)= 0.012622525006474828\n",
      "k= 12 , p(k)= 0.015269183475574585\n",
      "k= 13 , p(k)= 0.018177599375684528\n",
      "k= 14 , p(k)= 0.021301874268379532\n",
      "k= 15 , p(k)= 0.024579085694283923\n",
      "k= 16 , p(k)= 0.02793077919805016\n",
      "k= 17 , p(k)= 0.031265797609756334\n",
      "k= 18 , p(k)= 0.03448433559899683\n",
      "k= 19 , p(k)= 0.03748297347716934\n",
      "k= 20 , p(k)= 0.040160328725542156\n",
      "k= 21 , p(k)= 0.04242288245655668\n",
      "k= 22 , p(k)= 0.04419050255891331\n",
      "k= 23 , p(k)= 0.04540120125915662\n",
      "k= 24 , p(k)= 0.046014731005903295\n",
      "k= 25 , p(k)= 0.046014731005903295\n",
      "k= 26 , p(k)= 0.04540927401898181\n",
      "k= 27 , p(k)= 0.04422981235615234\n",
      "k= 28 , p(k)= 0.042528665727070036\n",
      "k= 29 , p(k)= 0.04037531556367719\n",
      "k= 30 , p(k)= 0.03785185834094226\n",
      "k= 31 , p(k)= 0.035048016982353394\n",
      "k= 32 , p(k)= 0.03205611309361615\n",
      "k= 33 , p(k)= 0.028966367253268562\n",
      "k= 34 , p(k)= 0.025862827904705357\n",
      "k= 35 , p(k)= 0.022820142268857292\n",
      "k= 36 , p(k)= 0.01990128686237629\n",
      "k= 37 , p(k)= 0.01715628177790946\n",
      "k= 38 , p(k)= 0.014621831060718331\n",
      "k= 39 , p(k)= 0.01232176774779733\n",
      "k= 40 , p(k)= 0.010268139789830414\n",
      "k= 41 , p(k)= 0.00846275257403583\n",
      "k= 42 , p(k)= 0.006898983076659395\n",
      "k= 43 , p(k)= 0.005563696029564439\n",
      "k= 44 , p(k)= 0.004439119172524806\n",
      "k= 45 , p(k)= 0.0035045677677829614\n",
      "k= 46 , p(k)= 0.002737943568580195\n",
      "k= 47 , p(k)= 0.002116966676737196\n",
      "k= 48 , p(k)= 0.001620127558727557\n",
      "k= 49 , p(k)= 0.001227369362672338\n",
      "k= 50 , p(k)= 0.0009205270220043002\n"
     ]
    }
   ],
   "source": [
    "lamda_value = 75\n",
    "k = list(range(50, 101))\n",
    "y = poisson.pmf(k, lamda_value)\n",
    "for indice in range(len(k)):\n",
    "    print(\"k=\", indice, \", p(k)=\", y[indice])"
   ]
  },
  {
   "cell_type": "code",
   "execution_count": 22,
   "id": "1f5c9e42-9629-48fb-b94a-eef9099d5269",
   "metadata": {},
   "outputs": [
    {
     "data": {
      "image/png": "[encoded data removed]",
      "text/plain": [
       "<Figure size 640x480 with 1 Axes>"
      ]
     },
     "metadata": {},
     "output_type": "display_data"
    }
   ],
   "source": [
    "lamda_value = 1\n",
    "k = list(range(10))\n",
    "y = poisson.pmf(k, lamda_value)\n",
    "\n",
    "plt.bar(k, y)\n",
    "plt.show()"
   ]
  },
  {
   "cell_type": "markdown",
   "id": "b617604f",
   "metadata": {},
   "source": [
    "b) La probabilidad de que en los siguientes tres minutos se roben dos autos."
   ]
  },
  {
   "cell_type": "code",
   "execution_count": 23,
   "id": "eb6a5109",
   "metadata": {},
   "outputs": [
    {
     "name": "stdout",
     "output_type": "stream",
     "text": [
      "0.18393972058572114\n"
     ]
    }
   ],
   "source": [
    "lamda_value = 1\n",
    "k = 2\n",
    "y = poisson.pmf(k, lamda_value)\n",
    "print(y)"
   ]
  },
  {
   "cell_type": "markdown",
   "id": "b8ebf0fc",
   "metadata": {},
   "source": [
    "c) La probabilidad de que en los siguientes tres minutos se roben dos autos o menos."
   ]
  },
  {
   "cell_type": "code",
   "execution_count": 24,
   "id": "620f6195",
   "metadata": {},
   "outputs": [
    {
     "name": "stdout",
     "output_type": "stream",
     "text": [
      "0.9196986029286058\n"
     ]
    }
   ],
   "source": [
    "lamda_value = 1\n",
    "k = [0, 1, 2]\n",
    "y = poisson.pmf(k, lamda_value)\n",
    "result = sum(y)\n",
    "print(result)"
   ]
  },
  {
   "cell_type": "markdown",
   "id": "37baabb1",
   "metadata": {},
   "source": [
    "d) La probabilidad de que se roben seis autos en los siguientes 15 minutos.\n"
   ]
  },
  {
   "cell_type": "code",
   "execution_count": 25,
   "id": "2e1fef79",
   "metadata": {},
   "outputs": [
    {
     "name": "stdout",
     "output_type": "stream",
     "text": [
      "0.1462228081398754\n"
     ]
    }
   ],
   "source": [
    "lamda_value = 5\n",
    "k = 6\n",
    "y = poisson.pmf(k, lamda_value)\n",
    "print(y)"
   ]
  },
  {
   "cell_type": "markdown",
   "id": "46b12092",
   "metadata": {},
   "source": [
    "## 19. Economía.  \n",
    "Una cadena de supermercados, cuyo nombre empieza con W, abrió 267 tiendas en México durante 2010. Con esta información,\n",
    "\n",
    "a) Determina λ para el número promedio de tiendas abiertas en un día.\n"
   ]
  },
  {
   "cell_type": "code",
   "execution_count": 26,
   "id": "e6836901-3b30-4ed8-ac98-e5b26e1a6a28",
   "metadata": {},
   "outputs": [
    {
     "name": "stdout",
     "output_type": "stream",
     "text": [
      "0.7315068493150685\n"
     ]
    }
   ],
   "source": [
    "lamda_value = 267/365\n",
    "print(lamda_value)"
   ]
  },
  {
   "cell_type": "markdown",
   "id": "50e6d7cc",
   "metadata": {},
   "source": [
    "b) ¿Cuál es la probabilidad de que en un día se abran dos tiendas?"
   ]
  },
  {
   "cell_type": "code",
   "execution_count": 27,
   "id": "10bd896d",
   "metadata": {},
   "outputs": [
    {
     "name": "stdout",
     "output_type": "stream",
     "text": [
      "0.12874115765049804\n"
     ]
    }
   ],
   "source": [
    "lamda_value = 267/365\n",
    "k = 2\n",
    "y = poisson.pmf(k, lamda_value)\n",
    "print(y)"
   ]
  },
  {
   "cell_type": "markdown",
   "id": "b851c458",
   "metadata": {},
   "source": [
    "c) ¿Cuál es la probabilidad de que en una semana se inauguren seis tiendas?"
   ]
  },
  {
   "cell_type": "code",
   "execution_count": 28,
   "id": "77bd3a00",
   "metadata": {},
   "outputs": [
    {
     "name": "stdout",
     "output_type": "stream",
     "text": [
      "0.14953415750157859\n"
     ]
    }
   ],
   "source": [
    "lamda_value = 267/365*7\n",
    "k = 6\n",
    "y = poisson.pmf(k, lamda_value)\n",
    "print(y)"
   ]
  },
  {
   "cell_type": "markdown",
   "id": "0947b188",
   "metadata": {},
   "source": [
    "## 20. Deportes.  \n",
    "En un gimnasio sólo para mujeres se realizan ejercicios aeróbicos y ejercicios en aparatos. El circuito está constituido por nueve aparatos tonificadores y ocho estaciones para los ejercicios aeróbicos. En un día cualquiera, en hora pico (entre las 19 y 20 horas), llegan en promedio siete mujeres. En ese horario:\n",
    "\n",
    "a) ¿Cuál es la probabilidad de que lleguen menos de cinco mujeres?"
   ]
  },
  {
   "cell_type": "code",
   "execution_count": 29,
   "id": "9512d278-4e21-4f45-982a-121b1e8fd33a",
   "metadata": {},
   "outputs": [
    {
     "name": "stdout",
     "output_type": "stream",
     "text": [
      "0.1729916078820712\n"
     ]
    }
   ],
   "source": [
    "lamda_value = 7\n",
    "k = [0,1,2,3,4]\n",
    "y = poisson.pmf(k, lamda_value)\n",
    "result = sum(y)\n",
    "print(result)"
   ]
  },
  {
   "cell_type": "markdown",
   "id": "2732c06d",
   "metadata": {},
   "source": [
    "b) ¿Cuál es la probabilidad de que estén ocupados todos los aparatos?"
   ]
  },
  {
   "cell_type": "code",
   "execution_count": 30,
   "id": "3bb90a18",
   "metadata": {},
   "outputs": [
    {
     "name": "stdout",
     "output_type": "stream",
     "text": [
      "0.10140466950059107\n"
     ]
    }
   ],
   "source": [
    "lamda_value = 7\n",
    "k = 9\n",
    "y = poisson.pmf(k, lamda_value)\n",
    "print(y)"
   ]
  },
  {
   "cell_type": "markdown",
   "id": "5f5c60c1",
   "metadata": {},
   "source": [
    "c) Y en un día extraordinario, ¿cuál es la probabilidad de que tanto los aparatos como las estaciones estén ocupados?"
   ]
  },
  {
   "cell_type": "code",
   "execution_count": 31,
   "id": "151c4fd2",
   "metadata": {},
   "outputs": [
    {
     "name": "stdout",
     "output_type": "stream",
     "text": [
      "0.00059639884231544\n"
     ]
    }
   ],
   "source": [
    "lamda_value = 7\n",
    "k = 17\n",
    "y = poisson.pmf(k, lamda_value)\n",
    "print(y)"
   ]
  },
  {
   "cell_type": "markdown",
   "id": "5c2c6d67",
   "metadata": {},
   "source": [
    "## 21. Aeronáutica.  \n",
    "Los aviones son los transportes más seguros que hay. Según los datos de las compañías aéreas que más accidentes han tenido, la probabilidad de sufrir un accidente es de 0.0002%. Si en un aeropuerto se registran en una semana determinada 3500 operaciones áereas,\n",
    "\n",
    "a) ¿Aplicarías una distribución binomial o una de Poisson? Justifica tu respuesta.  \n",
    "R= Se aplicaría una distribución de Poisson utilizando la aproximación de la binomial"
   ]
  },
  {
   "cell_type": "markdown",
   "id": "aeea46d0",
   "metadata": {},
   "source": [
    "b) ¿Cuál es la probabilidad de que haya cuando mucho un accidente aéreo?"
   ]
  },
  {
   "cell_type": "code",
   "execution_count": 34,
   "id": "e50867cb",
   "metadata": {},
   "outputs": [
    {
     "name": "stdout",
     "output_type": "stream",
     "text": [
      "0.9999997551143033\n",
      "0.0007\n"
     ]
    }
   ],
   "source": [
    "lamda_value = 3500 * 0.0000002\n",
    "k = [0, 1]\n",
    "y = poisson.pmf(k, lamda_value)\n",
    "result = sum(y)\n",
    "print(result)\n",
    "print(lamda_value)"
   ]
  },
  {
   "cell_type": "markdown",
   "id": "be188e44",
   "metadata": {},
   "source": [
    "## 22. Servicios.  \n",
    "Se calcula que 0.3% de quienes llaman a los servicios de atención a clientes de un banco recibirá una señal de línea ocupada. Si se reciben 1100 llamadas, entonces:\n",
    "\n",
    "a) ¿Aplicarías una distribución binomial o una de Poisson? Justifica tu respuesta.  \n",
    "R= Se aplicaría una distribución binomial porque el problema proporciona los valores de p y n"
   ]
  },
  {
   "cell_type": "markdown",
   "id": "eb44dd52",
   "metadata": {},
   "source": [
    "b) ¿Cuál es la probabilidad de que por lo menos cinco personas hayan recibido una señal de\n",
    "línea ocupada?"
   ]
  },
  {
   "cell_type": "code",
   "execution_count": 33,
   "id": "64696551",
   "metadata": {},
   "outputs": [
    {
     "name": "stdout",
     "output_type": "stream",
     "text": [
      "0.23721767289985035\n"
     ]
    }
   ],
   "source": [
    "p = 0.003\n",
    "n = 1100\n",
    "k = list(range(5, 1100 + 1))\n",
    "\n",
    "y = binom.pmf(k,n,p)\n",
    "result = sum(y)\n",
    "print(result)"
   ]
  }
 ],
 "metadata": {
  "kernelspec": {
   "display_name": "Python 3 (ipykernel)",
   "language": "python",
   "name": "python3"
  },
  "language_info": {
   "codemirror_mode": {
    "name": "ipython",
    "version": 3
   },
   "file_extension": ".py",
   "mimetype": "text/x-python",
   "name": "python",
   "nbconvert_exporter": "python",
   "pygments_lexer": "ipython3",
   "version": "3.10.7"
  }
 },
 "nbformat": 4,
 "nbformat_minor": 5
}
